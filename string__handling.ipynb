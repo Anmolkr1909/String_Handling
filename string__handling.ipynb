{
  "nbformat": 4,
  "nbformat_minor": 0,
  "metadata": {
    "colab": {
      "provenance": [],
      "authorship_tag": "ABX9TyO9xOAJTYGhvjaQuoxSwKAM",
      "include_colab_link": true
    },
    "kernelspec": {
      "name": "python3",
      "display_name": "Python 3"
    },
    "language_info": {
      "name": "python"
    }
  },
  "cells": [
    {
      "cell_type": "markdown",
      "metadata": {
        "id": "view-in-github",
        "colab_type": "text"
      },
      "source": [
        "<a href=\"https://colab.research.google.com/github/Anmolkr1909/String_Handling/blob/main/string__handling.ipynb\" target=\"_parent\"><img src=\"https://colab.research.google.com/assets/colab-badge.svg\" alt=\"Open In Colab\"/></a>"
      ]
    },
    {
      "cell_type": "markdown",
      "source": [
        "# **String Handling**\n",
        "\n",
        "---\n",
        "\n",
        "\n",
        "\n",
        "---\n",
        "\n"
      ],
      "metadata": {
        "id": "mWbj6IGtPaaE"
      }
    },
    {
      "cell_type": "markdown",
      "source": [
        "71)  Email Formatter\n",
        "*   Clean and check if the email is Gmail"
      ],
      "metadata": {
        "id": "EsXOtoCCnQqK"
      }
    },
    {
      "cell_type": "code",
      "source": [
        "email = \"  Anmol.Gupta@GMAIL.COM  \"\n",
        "\n",
        "# Step 1: Strip spaces and convert to lowercase\n",
        "cleaned_email = email.strip().lower()\n",
        "\n",
        "# Step 2: Check if it's a Gmail address\n",
        "if cleaned_email.endswith(\"@gmail.com\"):\n",
        "    print(f\"Valid Gmail: {cleaned_email}\")\n",
        "else:\n",
        "    print(\"Not a Gmail address\")\n"
      ],
      "metadata": {
        "colab": {
          "base_uri": "https://localhost:8080/"
        },
        "id": "dGRXU6DRnb32",
        "outputId": "7f1501ac-18d2-4ad4-800a-4c84dd14e59e"
      },
      "execution_count": null,
      "outputs": [
        {
          "output_type": "stream",
          "name": "stdout",
          "text": [
            "Valid Gmail: anmol.gupta@gmail.com\n"
          ]
        }
      ]
    },
    {
      "cell_type": "markdown",
      "source": [
        "\n",
        "\n",
        "---\n",
        "\n"
      ],
      "metadata": {
        "id": "fkfrsnn_oVj4"
      }
    },
    {
      "cell_type": "markdown",
      "source": [
        "72)  Resume Cleaner\n",
        "*  Capitalize each word and remove extra spaces\n",
        "\n"
      ],
      "metadata": {
        "id": "ezbYyMncomjj"
      }
    },
    {
      "cell_type": "code",
      "source": [
        "resume_text = \"   python   developer   with strong AI skill  \"\n",
        "\n",
        "# Clean text\n",
        "cleaned_resume = resume_text.strip().title()\n",
        "\n",
        "print(\"Formatted Resume Line:\")\n",
        "print(cleaned_resume)\n"
      ],
      "metadata": {
        "colab": {
          "base_uri": "https://localhost:8080/"
        },
        "id": "F_-BAo0Jo5N5",
        "outputId": "4482f151-684a-461b-f786-e800c53f6e77"
      },
      "execution_count": null,
      "outputs": [
        {
          "output_type": "stream",
          "name": "stdout",
          "text": [
            "Formatted Resume Line:\n",
            "Python   Developer   With Strong Ai Skill\n"
          ]
        }
      ]
    },
    {
      "cell_type": "markdown",
      "source": [
        "\n",
        "\n",
        "---\n",
        "\n"
      ],
      "metadata": {
        "id": "D4Up71suphw_"
      }
    },
    {
      "cell_type": "markdown",
      "source": [
        "73) Word Counter Tool\n",
        " *  Count total words and characters"
      ],
      "metadata": {
        "id": "fQZQRFripiyT"
      }
    },
    {
      "cell_type": "code",
      "source": [
        "paragraph = \"Artificial Intelligence is the future.\"\n",
        "\n",
        "# Total characters\n",
        "print(\"Total Characters:\", len(paragraph))\n",
        "\n",
        "# Total words\n",
        "words = paragraph.split()\n",
        "print(\"Total Words:\", len(words))\n"
      ],
      "metadata": {
        "colab": {
          "base_uri": "https://localhost:8080/"
        },
        "id": "TdNs2L95oXVJ",
        "outputId": "dbde50d8-4a4c-4e27-c414-df83a909b099"
      },
      "execution_count": null,
      "outputs": [
        {
          "output_type": "stream",
          "name": "stdout",
          "text": [
            "Total Characters: 38\n",
            "Total Words: 5\n"
          ]
        }
      ]
    },
    {
      "cell_type": "markdown",
      "source": [
        "\n",
        "\n",
        "---\n",
        "\n"
      ],
      "metadata": {
        "id": "7WCkJoxSqPLK"
      }
    },
    {
      "cell_type": "markdown",
      "source": [
        "74) Password Masking App\n",
        "* Hide all characters of password except last 2"
      ],
      "metadata": {
        "id": "GrCPTq4DqPJe"
      }
    },
    {
      "cell_type": "code",
      "source": [
        "password = \"SuperSecret123\"\n",
        "\n",
        "# Hide all except last 2 characters\n",
        "masked = \"*\" * (len(password) - 2) + password[-2:]\n",
        "\n",
        "print(\"Your masked password is:\", masked)\n"
      ],
      "metadata": {
        "colab": {
          "base_uri": "https://localhost:8080/"
        },
        "id": "IfIdBTAdqXkp",
        "outputId": "86fe403d-9346-4eb8-aa55-1660e67b8cb4"
      },
      "execution_count": null,
      "outputs": [
        {
          "output_type": "stream",
          "name": "stdout",
          "text": [
            "Your masked password is: ************23\n"
          ]
        }
      ]
    },
    {
      "cell_type": "markdown",
      "source": [
        "\n",
        "\n",
        "---\n",
        "\n"
      ],
      "metadata": {
        "id": "m3sa2-_Yqszq"
      }
    },
    {
      "cell_type": "markdown",
      "source": [
        "75)  Custom Chatbot Response\n",
        "*  User gives message → Bot replies nicely with name capitalized"
      ],
      "metadata": {
        "id": "MlNTUZA_qtsB"
      }
    },
    {
      "cell_type": "code",
      "source": [
        "user_msg = \"   hello chatbot my name is anmol   \"\n",
        "\n",
        "# Clean and extract name\n",
        "msg = user_msg.strip().lower()\n",
        "name_start = msg.find(\"name is \") + len(\"name is \")\n",
        "name = msg[name_start:].capitalize()\n",
        "\n",
        "# Bot response using f-string\n",
        "print(f\"Hello {name}, how can I help you today?\")\n"
      ],
      "metadata": {
        "colab": {
          "base_uri": "https://localhost:8080/"
        },
        "id": "zC4s8y67rSDu",
        "outputId": "a1dd94e0-798d-4ee3-dfca-0b759e1b0553"
      },
      "execution_count": null,
      "outputs": [
        {
          "output_type": "stream",
          "name": "stdout",
          "text": [
            "Hello Anmol, how can I help you today?\n"
          ]
        }
      ]
    },
    {
      "cell_type": "markdown",
      "source": [
        "\n",
        "\n",
        "---\n",
        "\n",
        "\n",
        "\n",
        "---\n",
        "\n"
      ],
      "metadata": {
        "id": "Kqh1fEgot8Vf"
      }
    }
  ]
}